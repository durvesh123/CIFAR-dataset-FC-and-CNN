{
 "cells": [
  {
   "cell_type": "code",
   "execution_count": 0,
   "metadata": {
    "colab": {},
    "colab_type": "code",
    "id": "434yMtzjG3kR"
   },
   "outputs": [],
   "source": [
    "#Submitted by Karan Bhatia (kb3053) and Durvesh Vedak (dvv223) \n",
    "import numpy as np"
   ]
  },
  {
   "cell_type": "code",
   "execution_count": 0,
   "metadata": {
    "colab": {},
    "colab_type": "code",
    "id": "Vlr2XB0KHKie"
   },
   "outputs": [],
   "source": [
    "import torch\n",
    "import torchvision\n",
    "import torchvision.transforms as transforms"
   ]
  },
  {
   "cell_type": "code",
   "execution_count": 0,
   "metadata": {
    "colab": {},
    "colab_type": "code",
    "id": "zBCXoTAHWZBh"
   },
   "outputs": [],
   "source": [
    "# http://pytorch.org/\n",
    "from os import path\n",
    "from wheel.pep425tags import get_abbr_impl, get_impl_ver, get_abi_tag\n",
    "platform = '{}{}-{}'.format(get_abbr_impl(), get_impl_ver(), get_abi_tag())\n",
    "\n",
    "accelerator = 'cu80' if path.exists('/opt/bin/nvidia-smi') else 'cpu'\n",
    "\n",
    "!pip install -q http://download.pytorch.org/whl/{accelerator}/torch-0.3.0.post4-{platform}-linux_x86_64.whl torchvision\n",
    "import torch"
   ]
  },
  {
   "cell_type": "code",
   "execution_count": 0,
   "metadata": {
    "colab": {},
    "colab_type": "code",
    "id": "xIx7oNfmHSQP"
   },
   "outputs": [],
   "source": [
    "# http://pytorch.org/\n",
    "from os import path\n",
    "from wheel.pep425tags import get_abbr_impl, get_impl_ver, get_abi_tag\n",
    "platform = '{}{}-{}'.format(get_abbr_impl(), get_impl_ver(), get_abi_tag())\n",
    "\n",
    "accelerator = 'cu80' if path.exists('/opt/bin/nvidia-smi') else 'cpu'\n",
    "\n",
    "!pip install -q http://download.pytorch.org/whl/{accelerator}/torch-0.3.0.post4-{platform}-linux_x86_64.whl torchvision\n",
    "import torch"
   ]
  },
  {
   "cell_type": "code",
   "execution_count": 0,
   "metadata": {
    "colab": {},
    "colab_type": "code",
    "id": "2AjrnQG8HQY-"
   },
   "outputs": [],
   "source": [
    "transform = transforms.Compose([transforms.ToTensor(), transforms.Normalize((0.5,0.5,0.5),(0.5,0.5,0.5))])"
   ]
  },
  {
   "cell_type": "code",
   "execution_count": 9,
   "metadata": {
    "colab": {
     "base_uri": "https://localhost:8080/",
     "height": 34
    },
    "colab_type": "code",
    "id": "V8cG2R5NHxr6",
    "outputId": "f8b4014e-a7cd-4646-c8f2-8e425c6b25b6"
   },
   "outputs": [
    {
     "name": "stdout",
     "output_type": "stream",
     "text": [
      "Downloading https://www.cs.toronto.edu/~kriz/cifar-10-python.tar.gz to ./data/cifar-10-python.tar.gz\n"
     ]
    }
   ],
   "source": [
    "trainset = torchvision.datasets.CIFAR10(root='./data',train=True,download=True,transform=True)"
   ]
  },
  {
   "cell_type": "code",
   "execution_count": 10,
   "metadata": {
    "colab": {
     "base_uri": "https://localhost:8080/",
     "height": 34
    },
    "colab_type": "code",
    "id": "-CByvMrsH0qP",
    "outputId": "73c349f2-3802-4368-b22c-0d7b96d616df"
   },
   "outputs": [
    {
     "name": "stdout",
     "output_type": "stream",
     "text": [
      "Files already downloaded and verified\n"
     ]
    }
   ],
   "source": [
    "testset = torchvision.datasets.CIFAR10(root='./data',train=False,download=True,transform=True)"
   ]
  },
  {
   "cell_type": "code",
   "execution_count": 0,
   "metadata": {
    "colab": {},
    "colab_type": "code",
    "id": "_MrZ5uLgH3Bk"
   },
   "outputs": [],
   "source": [
    "trainset_x = trainset.train_data"
   ]
  },
  {
   "cell_type": "code",
   "execution_count": 0,
   "metadata": {
    "colab": {},
    "colab_type": "code",
    "id": "BytKVXJyH7PQ"
   },
   "outputs": [],
   "source": [
    "trainset_y = np.array(trainset.train_labels)"
   ]
  },
  {
   "cell_type": "code",
   "execution_count": 0,
   "metadata": {
    "colab": {},
    "colab_type": "code",
    "id": "JsB00eMWIBFJ"
   },
   "outputs": [],
   "source": [
    "trainset_y = trainset_y.reshape(trainset_y.shape[0],)"
   ]
  },
  {
   "cell_type": "code",
   "execution_count": 0,
   "metadata": {
    "colab": {},
    "colab_type": "code",
    "id": "PNovRl6eIDVz"
   },
   "outputs": [],
   "source": [
    "testset_x = testset.test_data"
   ]
  },
  {
   "cell_type": "code",
   "execution_count": 0,
   "metadata": {
    "colab": {},
    "colab_type": "code",
    "id": "YLCqtf73IFQX"
   },
   "outputs": [],
   "source": [
    "testset_y = np.array(testset.test_labels)"
   ]
  },
  {
   "cell_type": "code",
   "execution_count": 0,
   "metadata": {
    "colab": {},
    "colab_type": "code",
    "id": "AjxHlR0SIPka"
   },
   "outputs": [],
   "source": [
    "testset_y = testset_y.reshape(testset_y.shape[0],)"
   ]
  },
  {
   "cell_type": "code",
   "execution_count": 0,
   "metadata": {
    "colab": {},
    "colab_type": "code",
    "id": "ulv0XLSZIRZW"
   },
   "outputs": [],
   "source": [
    "class NeuralNetwork(object):\n",
    "    \"\"\"This class represents a Neural Network\"\"\"\n",
    "    def __init__(self, layer_dimensions):\n",
    "        \"\"\"\n",
    "        param layer_dimensions: A python list containing number of \n",
    "        neurons in each layer starting from input layer to output layer.\n",
    "        \"\"\"\n",
    "        # Number of layers including input and output layer.\n",
    "        self.num_layers = len(layer_dimensions) \n",
    "        # Creating an empty dictionary having paramter arrays b/w any 2 layers.\n",
    "        self.parameters = {}\n",
    "        \n",
    "        self.layer_dimensions = layer_dimensions\n",
    "        for i in range(1, self.num_layers):\n",
    "            self.parameters['W' + str(i)] = np.random.randn(self.layer_dimensions[i], layer_dimensions[i-1]) * 0.001\n",
    "            self.parameters['b' + str(i)] = np.zeros((self.layer_dimensions[i], 1))         \n",
    "    \n",
    "    def affineForward(self, A, W, b):\n",
    "        Z = np.dot(W,A) + b\n",
    "        \n",
    "        return Z\n",
    "    \n",
    "    def relu(self, X):\n",
    "        return np.maximum(X, 0)\n",
    "    \n",
    "    def softmax(self, Z):\n",
    "        Z = np.exp(Z)\n",
    "        \n",
    "        Z = Z / np.sum(Z, axis = 0)\n",
    "        \n",
    "        return Z\n",
    "    \n",
    "    def activationForward(self, A, W, b, activation = \"relu\"):\n",
    "        if activation ==\"relu\":\n",
    "            Z = self.affineForward(A, W, b)\n",
    "            Act = self.relu(Z)\n",
    "            \n",
    "            return Act, Z\n",
    "    \n",
    "    def forwardPropagation(self, X):\n",
    "        caches = [(X,None)]\n",
    "        \n",
    "        A = X\n",
    "        \n",
    "        for i in range(1, self.num_layers-1):\n",
    "            A_previous = A\n",
    "            \n",
    "            A, Z = self.activationForward(A_previous, self.parameters['W' + str(i)], self.parameters['b' + str(i)], activation='relu')\n",
    "            \n",
    "            caches.append((A,Z))\n",
    "            \n",
    "        Z = self.affineForward(A , self.parameters['W' + str(self.num_layers-1)], self.parameters['b' + str(self.num_layers-1)])     \n",
    "            \n",
    "        y_hat = self.softmax(Z)\n",
    "        \n",
    "        return Z, y_hat, caches\n",
    "    \n",
    "    def cost(self, y_hat, Y):\n",
    "        loss = - np.sum(np.multiply(Y, np.log(y_hat))) / Y.shape[1]\n",
    "        \n",
    "        return loss\n",
    "    \n",
    "    def relu_derivative(self,x):\n",
    "        x[x<=0] = 0\n",
    "        \n",
    "        x[x>0] = 1\n",
    "        \n",
    "        return x\n",
    "    \n",
    "    def backPropagation(self, Z, y_hat, caches, Y):\n",
    "        gradients = {}\n",
    "        \n",
    "        m = Y.shape[1]\n",
    "        \n",
    "        dZL = y_hat - Y\n",
    "        \n",
    "        gradients[\"dW\" + str(self.num_layers - 1)] = np.dot(dZL, caches[-1][0].T) / m \n",
    "                                                                \n",
    "        gradients[\"db\" + str(self.num_layers - 1)] = np.sum(dZL , axis = 1, keepdims= True) / m\n",
    "        \n",
    "        dz_prev = dZL\n",
    "        \n",
    "        for i in range(self.num_layers - 2, 0,-1):\n",
    "            \n",
    "            da = np.dot(self.parameters['W' + str(i+1)].T, dz_prev)\n",
    "            \n",
    "            dz = np.multiply(da, self.relu_derivative(caches[i][1]))\n",
    "            \n",
    "            gradients[\"dW\" + str(i)] = np.dot(dz, caches[i-1][0].T) / m\n",
    "            \n",
    "            gradients[\"db\" + str(i)] = np.sum(dz, axis = 1 , keepdims= True) / m \n",
    "            \n",
    "            dz_prev = dz\n",
    "    \n",
    "        return gradients\n",
    "    \n",
    "    def update_weights(self, gradients, alpha):\n",
    "        \n",
    "        for i in range(1, self.num_layers):\n",
    "            self.parameters['W' + str(i)] = self.parameters['W' + str(i)] - alpha * gradients['dW' + str(i)]\n",
    "            \n",
    "            self.parameters['b' + str(i)] = self.parameters['b' + str(i)] - alpha * gradients['db' + str(i)]\n",
    "\n",
    "    def train(self, X, Y , iters = 1, alpha = 0.0001, batch_size = 100, print_every = 100):\n",
    "        \n",
    "        costs = []\n",
    "        \n",
    "        for j in range(iters):\n",
    "            loss = 0 \n",
    "            print(\"Epoch \"+ str(j))\n",
    "            for i in range(0, X.shape[1], batch_size):\n",
    "                x_batch = X[:,i:i+batch_size]\n",
    "                y_batch = Y[:,i:i+batch_size]\n",
    "                Z , y_hat , caches = self.forwardPropagation(x_batch)\n",
    "\n",
    "                loss = self.cost(y_hat, y_batch)\n",
    "                \n",
    "                \n",
    "                \n",
    "                gradients = self.backPropagation(Z, y_hat, caches, y_batch)    \n",
    "\n",
    "                self.update_weights(gradients, alpha)\n",
    "            \n",
    "            print(loss)\n",
    "            costs.append(loss)\n",
    "            \n",
    "        return costs\n",
    "    \n",
    "    def predict(X_test):\n",
    "        \n",
    "        z, y_hat, caches = self.forwardPropagation(X_test)\n",
    "        \n",
    "        return y_hat"
   ]
  },
  {
   "cell_type": "code",
   "execution_count": 0,
   "metadata": {
    "colab": {},
    "colab_type": "code",
    "id": "tABQdUsZIWEf"
   },
   "outputs": [],
   "source": [
    "nn = NeuralNetwork([3072,150,100,10])"
   ]
  },
  {
   "cell_type": "code",
   "execution_count": 0,
   "metadata": {
    "colab": {},
    "colab_type": "code",
    "id": "GYrArgLyIaHU"
   },
   "outputs": [],
   "source": [
    "training_x_set = trainset_x"
   ]
  },
  {
   "cell_type": "code",
   "execution_count": 0,
   "metadata": {
    "colab": {},
    "colab_type": "code",
    "id": "Kf4Ke2rfIi4R"
   },
   "outputs": [],
   "source": [
    "training_x_set = training_x_set.reshape(training_x_set.shape[0],-1)"
   ]
  },
  {
   "cell_type": "code",
   "execution_count": 0,
   "metadata": {
    "colab": {},
    "colab_type": "code",
    "id": "XaDwXamNI1KC"
   },
   "outputs": [],
   "source": [
    "training_y_set = trainset_y"
   ]
  },
  {
   "cell_type": "code",
   "execution_count": 0,
   "metadata": {
    "colab": {},
    "colab_type": "code",
    "id": "VgjEtL5jJB9Y"
   },
   "outputs": [],
   "source": [
    "def convert_to_one_hot(Y):\n",
    "    \"\"\"Function Paramters: Y : A numpy array/vector of labels.\n",
    "       Return: Function Returns a numpy array of shape (m , maxlabel+1) where m is length of Y.\n",
    "       maxlabel + 1 means if we have max label as 4, we need 4 zeros and 1 one to represent it as one-hot.\"\"\"\n",
    "    \n",
    "    # Initializing one-hot numpy array\n",
    "    a = np.zeros((Y.shape[0],np.max(Y)+1))\n",
    "    print(a.shape)\n",
    "    # Storing 1 at index == label for an example.\n",
    "    a[np.arange(Y.shape[0]), Y] = 1\n",
    "    \n",
    "    return a"
   ]
  },
  {
   "cell_type": "code",
   "execution_count": 23,
   "metadata": {
    "colab": {
     "base_uri": "https://localhost:8080/",
     "height": 34
    },
    "colab_type": "code",
    "id": "jEjlHrGCJEbL",
    "outputId": "dbc020dc-0af4-4be3-c50e-4a8505236b87"
   },
   "outputs": [
    {
     "name": "stdout",
     "output_type": "stream",
     "text": [
      "(50000, 10)\n"
     ]
    }
   ],
   "source": [
    "training_y_set = convert_to_one_hot(training_y_set)"
   ]
  },
  {
   "cell_type": "code",
   "execution_count": 102,
   "metadata": {
    "colab": {
     "base_uri": "https://localhost:8080/",
     "height": 357
    },
    "colab_type": "code",
    "id": "DU6Hs_vsJSXE",
    "outputId": "ee3b846c-2d1b-48d5-8a2a-e5b1a438b327"
   },
   "outputs": [
    {
     "name": "stdout",
     "output_type": "stream",
     "text": [
      "Epoch 0\n",
      "0.8981679450616866\n",
      "Epoch 1\n",
      "0.9107100398834639\n",
      "Epoch 2\n",
      "0.902143238557128\n",
      "Epoch 3\n",
      "0.8890928636272026\n",
      "Epoch 4\n",
      "0.8738777637521636\n",
      "Epoch 5\n",
      "0.8735680015746975\n",
      "Epoch 6\n",
      "0.8783691884334109\n",
      "Epoch 7\n",
      "0.8733441395601149\n",
      "Epoch 8\n",
      "0.8909076653560166\n",
      "Epoch 9\n",
      "0.8753418718531143\n"
     ]
    }
   ],
   "source": [
    "costs = nn.train(training_x_set.T, training_y_set.T, iters = 10, batch_size = 100,alpha = 0.0002)"
   ]
  },
  {
   "cell_type": "code",
   "execution_count": 0,
   "metadata": {
    "colab": {},
    "colab_type": "code",
    "id": "wQYlHIo3J1p8"
   },
   "outputs": [],
   "source": [
    "test_x_set = testset_x"
   ]
  },
  {
   "cell_type": "code",
   "execution_count": 0,
   "metadata": {
    "colab": {},
    "colab_type": "code",
    "id": "yctkMBFYQmR3"
   },
   "outputs": [],
   "source": [
    "test_x_set = test_x_set.reshape(test_x_set.shape[0],-1)"
   ]
  },
  {
   "cell_type": "code",
   "execution_count": 0,
   "metadata": {
    "colab": {},
    "colab_type": "code",
    "id": "-8zo66bfTBmF"
   },
   "outputs": [],
   "source": [
    "def predict(X,nn):\n",
    "  z, y_hat, caches = nn.forwardPropagation(X)\n",
    "        \n",
    "  return y_hat  \n",
    "  "
   ]
  },
  {
   "cell_type": "code",
   "execution_count": 0,
   "metadata": {
    "colab": {},
    "colab_type": "code",
    "id": "z6inJ_eUTBd1"
   },
   "outputs": [],
   "source": [
    "y_hat_test = predict(test_x_set.T, nn)"
   ]
  },
  {
   "cell_type": "code",
   "execution_count": 107,
   "metadata": {
    "colab": {
     "base_uri": "https://localhost:8080/",
     "height": 34
    },
    "colab_type": "code",
    "id": "6V3UH0q3TjGV",
    "outputId": "619e82dc-ea15-447a-a67b-7574ea1f96af"
   },
   "outputs": [
    {
     "data": {
      "text/plain": [
       "(10, 10000)"
      ]
     },
     "execution_count": 107,
     "metadata": {
      "tags": []
     },
     "output_type": "execute_result"
    }
   ],
   "source": [
    "y_hat_test.shape"
   ]
  },
  {
   "cell_type": "code",
   "execution_count": 0,
   "metadata": {
    "colab": {},
    "colab_type": "code",
    "id": "RoRWHeOZRm5J"
   },
   "outputs": [],
   "source": [
    "predictions_labels = np.argmax(y_hat_test, axis = 0)\n"
   ]
  },
  {
   "cell_type": "code",
   "execution_count": 116,
   "metadata": {
    "colab": {
     "base_uri": "https://localhost:8080/",
     "height": 34
    },
    "colab_type": "code",
    "id": "WkN8Gp-wgcIj",
    "outputId": "bcb267d4-e742-480e-d49b-900349bed9b2"
   },
   "outputs": [
    {
     "name": "stdout",
     "output_type": "stream",
     "text": [
      "3\n"
     ]
    }
   ],
   "source": [
    "predictions_labels = predictions_labels.astype(int)"
   ]
  },
  {
   "cell_type": "code",
   "execution_count": 0,
   "metadata": {
    "colab": {},
    "colab_type": "code",
    "id": "qB1tMkTWcjYf"
   },
   "outputs": [],
   "source": [
    "np.savetxt('ans1-dvv223.txt',predictions_labels,delimiter='\\n',fmt = '%i')"
   ]
  },
  {
   "cell_type": "code",
   "execution_count": 0,
   "metadata": {
    "colab": {},
    "colab_type": "code",
    "id": "CTavLBvwTs-Q"
   },
   "outputs": [],
   "source": [
    "acc = np.sum(testset_y == predictions_labels) / testset_y.shape[0]"
   ]
  },
  {
   "cell_type": "code",
   "execution_count": 110,
   "metadata": {
    "colab": {
     "base_uri": "https://localhost:8080/",
     "height": 34
    },
    "colab_type": "code",
    "id": "xd9icd0WUK-I",
    "outputId": "367b8fdd-c92f-4e12-db95-2693efe2affe"
   },
   "outputs": [
    {
     "data": {
      "text/plain": [
       "0.5251"
      ]
     },
     "execution_count": 110,
     "metadata": {
      "tags": []
     },
     "output_type": "execute_result"
    }
   ],
   "source": [
    "acc"
   ]
  },
  {
   "cell_type": "code",
   "execution_count": 80,
   "metadata": {
    "colab": {
     "base_uri": "https://localhost:8080/",
     "height": 34
    },
    "colab_type": "code",
    "id": "XtvRG1VaUNrG",
    "outputId": "3a1863bb-4c1b-4c3a-ceb2-54227d041563"
   },
   "outputs": [
    {
     "name": "stdout",
     "output_type": "stream",
     "text": [
      "[3 1 0 ... 3 4 7]\n"
     ]
    }
   ],
   "source": [
    "print(predictions_labels)"
   ]
  },
  {
   "cell_type": "code",
   "execution_count": 0,
   "metadata": {
    "colab": {},
    "colab_type": "code",
    "id": "ud4JSdTkVBK2"
   },
   "outputs": [],
   "source": [
    "params = nn.parameters"
   ]
  },
  {
   "cell_type": "code",
   "execution_count": 69,
   "metadata": {
    "colab": {
     "base_uri": "https://localhost:8080/",
     "height": 10659
    },
    "colab_type": "code",
    "id": "VsTQNPiga9Jr",
    "outputId": "2c1bc8e5-55e4-4955-e877-266030c1be67"
   },
   "outputs": [
    {
     "data": {
      "text/plain": [
       "{'W1': array([[ 0.00103204,  0.00012186,  0.00111803, ..., -0.00091976,\n",
       "         -0.00060246,  0.00080853],\n",
       "        [-0.00277991, -0.00093367, -0.00134731, ..., -0.00103389,\n",
       "         -0.0004657 , -0.00038179],\n",
       "        [-0.00191525, -0.00352181, -0.00429492, ...,  0.00367479,\n",
       "          0.00170952,  0.00227144],\n",
       "        ...,\n",
       "        [-0.00311895, -0.00285253,  0.00281467, ..., -0.00142098,\n",
       "          0.00018167,  0.00026197],\n",
       "        [ 0.00069898,  0.00209148,  0.00831094, ...,  0.00247318,\n",
       "         -0.00047954, -0.00309718],\n",
       "        [ 0.0034142 ,  0.00012669, -0.0027484 , ..., -0.00263904,\n",
       "         -0.00049635,  0.0034235 ]]),\n",
       " 'W2': array([[ 0.00317419,  0.00251642, -0.00266715, ..., -0.00285604,\n",
       "         -0.01088401,  0.00371027],\n",
       "        [-0.00209123,  0.00151611,  0.0113429 , ..., -0.01797853,\n",
       "         -0.02726917,  0.00403793],\n",
       "        [ 0.00069928, -0.00536933,  0.00666701, ...,  0.00404588,\n",
       "         -0.00516287,  0.00438775],\n",
       "        ...,\n",
       "        [ 0.00131813,  0.0137815 , -0.00318494, ..., -0.00317308,\n",
       "          0.00231219, -0.00215766],\n",
       "        [ 0.00063236, -0.00164771,  0.00426981, ..., -0.01853359,\n",
       "         -0.01940207, -0.00105359],\n",
       "        [ 0.00116111,  0.00372898,  0.00637737, ..., -0.00452165,\n",
       "         -0.00761354,  0.00061992]]),\n",
       " 'W3': array([[-1.14320914e-02, -2.60545962e-02,  2.00507795e-02,\n",
       "         -1.24653212e-02,  2.87770918e-02,  3.87973390e-02,\n",
       "          2.27958405e-02,  4.10024081e-02,  2.48137552e-02,\n",
       "         -1.29021147e-02, -1.60189398e-02,  2.16639179e-02,\n",
       "         -4.93092711e-03, -2.55783127e-02,  1.36573572e-02,\n",
       "          2.17248611e-02,  4.10108105e-02,  1.52245226e-02,\n",
       "         -2.24895945e-03,  9.78201147e-03,  3.87304545e-02,\n",
       "         -1.43032164e-03, -5.58810476e-03, -5.48258590e-04,\n",
       "          4.59222851e-03,  4.49422460e-04, -5.58345347e-04,\n",
       "         -1.84500521e-02,  1.07937908e-03,  3.41200682e-02,\n",
       "          1.66249053e-03, -4.81147214e-02,  5.25379374e-03,\n",
       "          1.28260047e-02,  8.27673672e-03, -1.48219409e-03,\n",
       "          5.71707047e-04, -3.10364379e-03, -4.13820161e-02,\n",
       "          2.26255413e-02,  2.47346797e-02, -9.20895682e-04,\n",
       "          7.61446570e-05, -6.77224451e-03,  8.72841773e-04,\n",
       "          8.75363926e-02,  1.50441552e-02, -3.40458234e-03,\n",
       "         -4.39857526e-03, -5.03747023e-03,  6.34918919e-02,\n",
       "          2.27941341e-02,  1.88711171e-02, -8.39439744e-04,\n",
       "         -2.37798891e-02,  3.07599775e-02, -1.91742967e-02,\n",
       "         -1.14580191e-02, -4.82141763e-03,  3.15861055e-02,\n",
       "         -8.68711467e-04,  8.15306485e-04, -6.21693970e-04,\n",
       "          1.02763593e-03, -1.49807590e-02,  5.49283029e-03,\n",
       "          3.16443669e-02,  1.33563489e-02,  4.13551682e-04,\n",
       "         -7.68112325e-03, -2.52771478e-02,  1.23578670e-03,\n",
       "         -2.52722452e-02, -3.07122549e-03, -1.14135499e-02,\n",
       "         -1.66839983e-02, -1.64761982e-02,  3.28349765e-03,\n",
       "         -2.96379476e-02,  4.88916272e-02, -5.95632462e-03,\n",
       "         -6.58185829e-03,  7.31453512e-03, -2.35739641e-02,\n",
       "          2.94030056e-03,  4.10542082e-02, -1.73949327e-02,\n",
       "         -2.63567708e-02, -3.35288529e-02, -7.15938478e-04,\n",
       "          2.64792851e-02,  2.85574595e-02,  7.13438354e-04,\n",
       "         -1.62082594e-03, -1.70537927e-04, -9.24324933e-03,\n",
       "         -1.88780272e-02, -5.49330030e-03, -1.81810445e-02,\n",
       "         -3.55944585e-02],\n",
       "        [ 1.19471508e-02, -2.36561456e-02,  1.82241523e-02,\n",
       "         -3.65597763e-02,  3.23697493e-03,  2.27156347e-02,\n",
       "         -9.29386205e-03,  6.55075652e-02,  5.31537090e-02,\n",
       "         -4.89830472e-02, -2.76151432e-02, -6.21694362e-03,\n",
       "          7.50019035e-02, -1.66621921e-02, -1.83147059e-02,\n",
       "         -1.16412792e-02,  5.32136751e-03, -2.16546719e-02,\n",
       "          7.60320996e-02,  7.10141393e-03, -4.26976434e-02,\n",
       "         -1.23191303e-02,  3.93505245e-02, -1.62776442e-02,\n",
       "          3.16259135e-03, -1.44328732e-03,  1.13857076e-03,\n",
       "         -1.34107353e-02,  9.66262016e-05, -8.87977656e-03,\n",
       "         -6.82216428e-05,  4.65706590e-02, -3.19554286e-03,\n",
       "         -2.08878522e-02, -5.47831165e-03,  1.19009787e-03,\n",
       "          1.05369603e-04,  1.46485874e-02,  1.76381135e-02,\n",
       "         -3.48110639e-02,  6.24930107e-02,  6.25521126e-03,\n",
       "         -1.23614600e-04, -2.81874006e-02, -8.23050918e-05,\n",
       "          1.92263779e-02, -2.30233157e-02, -6.60914854e-03,\n",
       "          3.68181106e-02,  2.85657758e-02,  3.62572029e-03,\n",
       "         -1.56789719e-02,  4.34209355e-02, -8.96228013e-04,\n",
       "         -1.23656492e-02,  1.16119809e-02, -3.30229030e-03,\n",
       "         -4.93298402e-03,  1.67837807e-02,  1.27912519e-02,\n",
       "         -5.30990696e-03,  1.90004791e-04, -5.81314077e-04,\n",
       "         -1.34504267e-03, -1.68780694e-02,  1.99101205e-03,\n",
       "         -1.41105820e-02, -2.97918784e-02,  6.95903938e-04,\n",
       "          1.64058303e-02, -2.70880582e-02, -1.51722585e-02,\n",
       "          5.22011814e-03, -1.47159530e-03,  1.39851854e-02,\n",
       "         -7.54795128e-03, -2.29894966e-02,  6.51352059e-03,\n",
       "          6.14708255e-02, -4.22315177e-02,  1.34220931e-02,\n",
       "         -1.45645929e-02, -3.47115385e-03,  2.66205075e-02,\n",
       "         -1.28729621e-02, -2.20462785e-02, -1.12214125e-02,\n",
       "          2.02943981e-02, -9.58703724e-02,  5.55845055e-04,\n",
       "          2.33829510e-03, -2.71988737e-02, -1.18933829e-03,\n",
       "          8.73263582e-03, -7.03957587e-04, -3.07613233e-02,\n",
       "         -1.75395683e-02,  2.52059772e-02, -4.84452185e-02,\n",
       "         -1.20922446e-02],\n",
       "        [-1.74546684e-02,  1.56196333e-02, -1.24782892e-02,\n",
       "          3.33091372e-03, -5.93256676e-03, -2.55012308e-03,\n",
       "         -2.77257348e-03,  3.18964182e-02,  6.78238596e-03,\n",
       "          1.38893039e-02,  3.29336544e-02,  4.35723342e-04,\n",
       "          1.91088709e-04, -1.38593168e-02, -4.99587699e-03,\n",
       "          1.93988398e-02, -3.85265177e-02, -6.45710628e-03,\n",
       "         -5.50179347e-02,  3.33767125e-03,  6.66400466e-02,\n",
       "         -1.15509479e-03,  2.04887098e-02, -1.03660798e-02,\n",
       "          9.57593012e-03,  2.81684575e-04,  6.35375486e-04,\n",
       "          9.84198215e-03,  3.81683007e-03,  1.55204262e-02,\n",
       "          9.73370650e-04, -2.72313692e-02, -4.86879374e-04,\n",
       "         -1.90080879e-03, -6.49184573e-03,  6.58983805e-03,\n",
       "         -4.39344026e-05, -1.72341514e-02, -1.87178594e-02,\n",
       "          9.96557540e-03, -4.89837488e-02, -2.42636993e-03,\n",
       "          5.74518869e-04, -1.93328936e-03, -2.09287343e-04,\n",
       "          2.30011572e-02,  7.12945575e-02, -1.79723835e-04,\n",
       "          1.66381453e-03, -5.91362803e-02, -9.64987985e-03,\n",
       "          1.12620890e-02, -3.92310251e-02,  6.94961493e-03,\n",
       "         -7.77001809e-03, -1.91332478e-02,  5.32674286e-03,\n",
       "          6.87605260e-03,  2.45274187e-03,  3.41791188e-02,\n",
       "          1.92405022e-03,  1.12852351e-03, -7.30118940e-04,\n",
       "          1.26364985e-03, -2.45239715e-02, -9.37646688e-04,\n",
       "         -1.60842139e-03,  2.40079735e-02, -1.25822976e-03,\n",
       "         -1.33358122e-02,  1.91597713e-02,  4.65185925e-03,\n",
       "         -1.74108106e-02,  5.45397530e-03, -2.03586677e-02,\n",
       "          8.27233382e-03,  2.64060520e-02,  1.98093445e-02,\n",
       "         -1.00456913e-02,  9.20669516e-03,  2.34220764e-02,\n",
       "          1.61137361e-02,  2.40217757e-02, -1.28439648e-02,\n",
       "         -2.33048402e-04,  2.06485956e-02, -1.20139847e-02,\n",
       "         -1.94091338e-02,  5.50336362e-02,  2.06680877e-03,\n",
       "         -5.63105614e-03,  3.09410209e-02, -8.25316773e-05,\n",
       "          2.02133924e-03,  7.38104318e-04,  4.45047816e-02,\n",
       "         -2.51142847e-03, -1.83029234e-03,  3.67139074e-03,\n",
       "          1.54123618e-04],\n",
       "        [-2.66034275e-03, -5.96782827e-03,  5.07791052e-02,\n",
       "          3.70841731e-03, -1.52126703e-02, -2.30290644e-02,\n",
       "          2.50231596e-02, -3.24016881e-02, -3.07404255e-02,\n",
       "         -2.85464711e-02, -1.60353087e-02, -1.06198445e-02,\n",
       "         -4.34551408e-02,  2.53049041e-02, -9.84564960e-03,\n",
       "         -2.05052971e-02, -4.40149219e-03, -2.97161841e-03,\n",
       "         -3.54680885e-02, -3.23079641e-03, -1.68508959e-02,\n",
       "          2.74741469e-02,  2.09985192e-02,  2.71002104e-03,\n",
       "         -1.46187890e-02,  1.21825013e-03, -3.38300718e-04,\n",
       "          3.27469084e-02,  3.06654996e-03, -3.40318675e-02,\n",
       "         -1.10278739e-03,  3.73489225e-03,  9.75063750e-04,\n",
       "         -5.55554577e-03, -5.27562881e-03,  1.02858486e-03,\n",
       "         -1.70480304e-04,  2.51487548e-03,  1.50581393e-02,\n",
       "          1.83107126e-02, -5.15319669e-03,  3.04028145e-03,\n",
       "         -7.06940812e-04,  5.85927435e-03,  7.16065746e-04,\n",
       "         -1.53842376e-02,  2.75111225e-02,  2.93706562e-04,\n",
       "         -4.79434426e-02, -2.67630668e-02, -2.92679167e-02,\n",
       "         -1.28544180e-02,  1.22344782e-02, -1.01182572e-03,\n",
       "          1.93908510e-02,  9.92162767e-03,  1.65854775e-02,\n",
       "         -1.01343181e-02,  4.87244212e-03, -2.29053824e-02,\n",
       "          1.16283283e-03,  4.14375690e-03,  7.72876395e-04,\n",
       "         -1.27227582e-04,  2.04517724e-02, -9.24748725e-04,\n",
       "         -2.72458820e-03,  6.80487543e-03, -9.41445049e-04,\n",
       "         -1.82193169e-02,  2.41131699e-02, -9.06052637e-03,\n",
       "         -7.21678275e-03,  4.39025802e-03,  2.50577726e-02,\n",
       "          1.32597850e-02,  2.71426663e-02, -2.14142401e-02,\n",
       "          8.68917568e-03,  1.08959456e-02,  1.30487135e-02,\n",
       "         -5.07240503e-03,  1.87702958e-03, -3.35843727e-02,\n",
       "          4.32878531e-04, -1.05228502e-03,  7.86260621e-03,\n",
       "          2.71640065e-02,  2.37737588e-02, -5.84116922e-04,\n",
       "         -1.09493366e-02, -2.61331118e-03,  1.14995628e-03,\n",
       "         -1.11635576e-02, -1.09156576e-03,  2.50788838e-02,\n",
       "          1.42749668e-02, -1.95340769e-02,  1.42296080e-02,\n",
       "          2.70739961e-02],\n",
       "        [-3.16722429e-02,  3.61955698e-02, -3.55461457e-02,\n",
       "         -4.22300308e-03,  2.16640736e-02, -2.96056007e-03,\n",
       "          4.80641156e-03, -1.44712677e-03,  1.16275009e-02,\n",
       "          8.61992836e-03,  4.84126366e-02,  1.35136636e-02,\n",
       "         -1.12856313e-02, -1.04978412e-02, -1.17860992e-02,\n",
       "          7.64268833e-03, -5.74813754e-03,  6.14765074e-03,\n",
       "          2.44865783e-02,  8.10762125e-03,  6.51477433e-02,\n",
       "         -6.38416163e-03, -2.68139985e-02,  2.55920050e-03,\n",
       "          1.94710521e-02, -8.92869192e-05,  1.10254217e-04,\n",
       "          7.88085205e-03,  2.07193876e-03,  1.31743001e-02,\n",
       "          3.71917020e-04,  5.03577423e-03,  2.05567874e-03,\n",
       "         -9.78008760e-03, -7.15483428e-03,  1.25993213e-03,\n",
       "          1.03712386e-03, -4.16947000e-02, -2.84667263e-03,\n",
       "          1.76173904e-02, -6.76385061e-03,  9.95887096e-03,\n",
       "         -4.67603302e-04, -1.81954237e-02,  4.58969918e-04,\n",
       "         -2.77572662e-03, -2.23078319e-02, -1.03760676e-02,\n",
       "          2.64883415e-02,  2.21875172e-02,  4.96873624e-03,\n",
       "         -5.48157440e-03, -2.50665412e-02,  2.67630358e-03,\n",
       "         -1.54891579e-02, -2.33903195e-02, -1.96695059e-02,\n",
       "         -4.49547578e-03,  6.39281540e-03,  1.37538456e-02,\n",
       "         -3.79055621e-03,  1.26698868e-03, -1.23711925e-03,\n",
       "         -8.24139811e-04, -2.46536342e-02, -1.94765362e-03,\n",
       "         -1.92975999e-02,  2.80791666e-02, -4.79898620e-04,\n",
       "          2.38282632e-02,  6.67242580e-03, -1.10485904e-02,\n",
       "         -6.99470979e-03,  5.09809356e-04, -5.12757072e-02,\n",
       "          3.04015581e-03,  1.53409585e-02,  1.38559030e-03,\n",
       "         -5.46671732e-02,  3.19076146e-02, -2.06111688e-02,\n",
       "         -8.62745003e-03, -9.01783300e-03,  2.41954056e-02,\n",
       "          1.49903293e-02,  3.64050955e-03,  2.74188192e-02,\n",
       "         -5.87554194e-03,  3.24417295e-02, -7.01858783e-04,\n",
       "          1.38370309e-02,  1.19927002e-02,  1.24106739e-03,\n",
       "         -4.13853352e-03,  1.31042410e-04,  2.31711780e-02,\n",
       "         -9.22233608e-03, -4.51097248e-02,  2.24780566e-02,\n",
       "          6.21585726e-03],\n",
       "        [ 1.94415703e-02,  1.44724493e-03,  1.23441037e-02,\n",
       "          1.72741715e-02, -1.46909299e-02, -2.84816671e-02,\n",
       "         -1.23033324e-03, -3.54583244e-02, -4.65070873e-02,\n",
       "         -4.03756211e-03, -4.08022075e-02, -1.37268027e-02,\n",
       "         -3.69096040e-02,  2.05327682e-02,  1.34288309e-02,\n",
       "         -4.27620854e-02, -1.91515264e-02, -5.50569244e-02,\n",
       "         -3.35770262e-02, -1.05917529e-02,  2.26913705e-02,\n",
       "         -1.14475364e-02,  1.73290384e-04,  3.87282633e-02,\n",
       "         -1.88128942e-02,  4.03426497e-04,  4.92105525e-04,\n",
       "          2.82534087e-02, -2.96487197e-03, -1.94686079e-02,\n",
       "          6.29281648e-04,  9.86361432e-04,  2.22798067e-03,\n",
       "          2.99861341e-02,  9.00470624e-04,  1.32412355e-03,\n",
       "         -7.53340041e-04,  2.45871289e-02,  1.09192900e-02,\n",
       "          1.98618160e-02,  2.51254475e-02, -3.14155127e-03,\n",
       "         -1.45753735e-04,  3.38023358e-04,  4.62940582e-04,\n",
       "         -3.28575481e-02,  5.56723865e-02,  2.09591379e-03,\n",
       "         -3.72897790e-02, -3.41764001e-02, -3.10755490e-02,\n",
       "         -8.36314847e-03, -2.29773328e-02, -9.93550471e-04,\n",
       "          1.20144392e-02,  2.82564540e-02,  1.15163739e-02,\n",
       "          1.19711633e-02, -3.34950565e-03, -4.71457486e-02,\n",
       "         -2.75172272e-03, -4.43399477e-03, -1.76386160e-03,\n",
       "          4.39327997e-04, -1.84372621e-03, -1.44360525e-03,\n",
       "         -8.65621731e-03,  1.33696123e-02, -9.54088364e-04,\n",
       "         -1.36425257e-02,  2.29175739e-02,  6.11262854e-03,\n",
       "          6.47110382e-03, -5.62777754e-03,  1.74436782e-02,\n",
       "          8.27444258e-03,  5.02366263e-03, -1.57600764e-02,\n",
       "          2.36756695e-02, -2.91529812e-03,  9.35104327e-03,\n",
       "          4.04184097e-03,  6.27466000e-03, -3.03645827e-02,\n",
       "         -2.25393500e-02, -2.55503689e-03,  5.17405347e-03,\n",
       "          3.84319783e-03,  2.36901938e-02, -4.94670718e-04,\n",
       "         -1.53285013e-02, -1.76765326e-02, -1.63534932e-03,\n",
       "         -7.27556189e-03, -2.13473232e-04, -4.61202113e-03,\n",
       "          2.01614467e-02,  7.15887449e-03,  5.18065643e-02,\n",
       "          1.41311626e-02],\n",
       "        [ 8.78131195e-03,  7.65183072e-02, -1.85371957e-02,\n",
       "          4.35832571e-02, -1.38885636e-02, -7.06951912e-03,\n",
       "         -4.38811372e-02, -2.13976338e-03, -2.00842437e-02,\n",
       "          5.71203991e-03,  4.99192453e-02, -2.87097336e-03,\n",
       "         -3.00003761e-02,  4.14839793e-02, -5.06490775e-02,\n",
       "         -1.22743749e-02, -7.83512201e-03, -8.54804655e-03,\n",
       "         -3.23086350e-02,  1.05193024e-02, -7.49801533e-02,\n",
       "          6.64219769e-03,  4.72297902e-02, -6.60025272e-03,\n",
       "          1.06732625e-02, -7.58956797e-04, -1.01898463e-03,\n",
       "          3.62947433e-02, -6.61756396e-03, -4.45576633e-02,\n",
       "         -6.35949749e-04, -1.75160318e-02, -1.78796560e-03,\n",
       "         -1.24655738e-02,  8.62382571e-03, -4.09378624e-03,\n",
       "         -1.33107649e-03, -5.71374757e-02, -2.09463915e-02,\n",
       "          1.56694718e-02,  1.70739891e-03, -8.78882830e-04,\n",
       "         -4.18720639e-04,  1.13157868e-02, -4.18893420e-04,\n",
       "          1.98860677e-02, -7.35412227e-03,  1.26263428e-02,\n",
       "         -8.96869635e-03, -3.37837107e-02, -5.83929560e-03,\n",
       "          1.34196169e-02, -8.92339514e-03, -3.75586128e-03,\n",
       "         -3.29024853e-02,  8.47982006e-03,  1.14494571e-02,\n",
       "          2.88748746e-03, -1.32466865e-02, -3.46356924e-03,\n",
       "          3.26486393e-03, -1.13613952e-03,  1.39958164e-03,\n",
       "         -1.45248814e-03,  3.47420840e-02,  3.17104273e-03,\n",
       "          2.62096203e-02, -3.07848164e-02,  3.70449530e-04,\n",
       "         -2.25804957e-02,  1.31895875e-02,  1.35654266e-02,\n",
       "          2.00700991e-02, -7.59150327e-05, -4.10694034e-02,\n",
       "          1.66470340e-02, -1.94660408e-02,  2.71866223e-02,\n",
       "          5.79092377e-03, -3.58379853e-02,  1.79510340e-02,\n",
       "          6.17244406e-03, -1.88809403e-02,  1.67567880e-03,\n",
       "          3.69728563e-02,  5.54854265e-03,  7.51029156e-03,\n",
       "         -7.49006687e-04,  1.44376515e-02, -4.98298497e-04,\n",
       "          1.62928620e-02, -1.97233518e-03, -1.96787644e-03,\n",
       "         -1.33343161e-02, -1.45675386e-03,  5.61190785e-02,\n",
       "          2.45067158e-02,  3.43114390e-02,  3.48163235e-02,\n",
       "          1.38948510e-02],\n",
       "        [-8.61590270e-03, -3.46691875e-02, -2.66722865e-02,\n",
       "          3.68976543e-02,  2.16858122e-02, -4.34768541e-02,\n",
       "         -3.64004093e-03, -4.00420464e-02, -3.10963238e-02,\n",
       "          7.66760076e-02, -1.08208942e-02,  2.97266293e-02,\n",
       "         -9.79005989e-03, -4.68104715e-02,  9.66188357e-03,\n",
       "         -1.30429323e-02, -3.15489593e-02, -2.87812533e-02,\n",
       "         -3.47579600e-02, -8.24030566e-03,  5.52283093e-02,\n",
       "          9.13361071e-03, -2.47699804e-02, -1.16831951e-02,\n",
       "         -1.43080709e-02,  3.18592424e-04,  6.39390494e-05,\n",
       "         -2.27873195e-02, -4.58156870e-04,  9.44645880e-02,\n",
       "          2.59876934e-04,  8.03168650e-03, -7.67052598e-04,\n",
       "         -1.99444945e-02,  3.91933752e-03, -2.72294937e-03,\n",
       "         -8.57543533e-04,  2.34216554e-02,  1.60957479e-02,\n",
       "          3.86285716e-02, -1.50717077e-02, -3.05453576e-03,\n",
       "          9.54591156e-04, -6.98828804e-03,  1.38372779e-03,\n",
       "         -5.72980225e-02, -1.47341550e-02, -1.26375247e-03,\n",
       "         -2.25736845e-02,  5.18091892e-02,  3.61735573e-02,\n",
       "          3.90935096e-03, -3.58346082e-02, -1.22454987e-03,\n",
       "          4.27025082e-02, -2.08479629e-02,  1.72206256e-02,\n",
       "         -7.00246746e-03,  1.21766871e-02, -3.96162418e-02,\n",
       "         -2.56365426e-05, -1.25490924e-03,  7.29162666e-06,\n",
       "          2.81089139e-04, -1.52461098e-02, -3.20777790e-03,\n",
       "         -4.49542060e-03,  6.04699033e-02,  1.09046234e-03,\n",
       "          3.68305358e-02, -1.46770739e-02, -1.77475307e-02,\n",
       "         -1.33680570e-02,  1.54805394e-03,  1.13772958e-02,\n",
       "         -5.38530446e-03,  1.04071848e-02, -2.14078679e-02,\n",
       "          7.11465366e-03, -3.21612683e-02, -3.13659668e-02,\n",
       "         -9.65742460e-03, -3.80592132e-03, -1.09852956e-02,\n",
       "         -1.17924098e-02, -2.98629900e-02, -1.60366897e-02,\n",
       "          4.02940364e-03,  2.73794931e-02, -8.66170001e-05,\n",
       "          8.18165691e-03, -3.37554698e-02,  9.14021699e-04,\n",
       "          3.92227437e-02, -8.37871688e-04, -3.55591230e-02,\n",
       "          1.35545511e-02,  2.05757236e-02, -8.46262440e-03,\n",
       "          3.68627311e-03],\n",
       "        [ 1.86179680e-02, -4.72298348e-02,  8.91013655e-04,\n",
       "         -5.13686508e-02, -4.62276926e-03,  4.65152640e-02,\n",
       "          2.45000937e-02, -1.34071472e-02,  2.07174259e-02,\n",
       "         -1.79232511e-02, -3.29562904e-02, -3.83465586e-02,\n",
       "          4.22536532e-02,  2.93570638e-02,  3.44777410e-02,\n",
       "          5.46672810e-03,  5.83226997e-02,  5.72736650e-02,\n",
       "          4.93920024e-02, -4.47199358e-03, -1.98489387e-02,\n",
       "         -2.66805369e-02, -6.94993864e-02,  1.78641103e-02,\n",
       "         -2.41876557e-03,  3.65992825e-04,  8.24968685e-04,\n",
       "         -2.82755875e-02, -8.47373969e-04, -4.24470557e-02,\n",
       "         -1.26869575e-04,  1.96521279e-03, -2.17521242e-03,\n",
       "          4.53123013e-02,  2.93128515e-03, -2.39537801e-04,\n",
       "          1.72276638e-03,  9.66976097e-03, -2.43845163e-02,\n",
       "         -5.52099722e-02, -6.23917012e-03, -9.36136680e-04,\n",
       "         -6.68140628e-04,  1.27027901e-02,  5.11416606e-04,\n",
       "         -3.86696232e-02, -4.85934611e-02,  3.91010233e-03,\n",
       "          4.31278494e-02,  1.91831534e-02, -2.14347988e-02,\n",
       "         -2.01183904e-02,  5.14244849e-02, -2.95349468e-03,\n",
       "         -2.99997922e-02, -1.60407326e-02, -3.08723362e-02,\n",
       "          1.06982756e-03, -3.96748242e-03, -3.78264095e-03,\n",
       "          3.02136510e-03, -1.34128327e-03,  9.97396059e-04,\n",
       "          1.41154608e-03,  4.47435688e-02,  3.54451967e-04,\n",
       "         -3.26587959e-02, -4.60713646e-02,  9.25631669e-04,\n",
       "         -1.08213796e-02,  1.26757465e-02,  1.12799408e-02,\n",
       "          1.73199827e-02,  3.69364846e-03,  3.45508392e-04,\n",
       "         -1.50040248e-02,  4.54364915e-03, -8.67953406e-03,\n",
       "         -7.26211972e-02,  6.06634063e-02, -1.15693768e-02,\n",
       "          2.64097911e-03, -1.51409948e-03,  5.71872613e-02,\n",
       "         -3.20117453e-02,  6.48275613e-03,  5.39896246e-03,\n",
       "         -1.68484794e-02,  6.29852786e-03, -3.79203833e-04,\n",
       "         -2.83957225e-02,  2.89997987e-02, -7.26082225e-04,\n",
       "         -3.68971478e-02,  8.92225215e-04, -2.60719499e-02,\n",
       "         -2.47727835e-02, -5.33138067e-02, -1.04461409e-02,\n",
       "         -1.30577581e-02],\n",
       "        [ 1.00000102e-02,  6.47516985e-03, -1.33306388e-02,\n",
       "         -2.84996707e-03, -1.88776066e-02, -9.00858376e-04,\n",
       "         -1.32879243e-02, -1.18648991e-02,  7.99664320e-03,\n",
       "          6.60874220e-03,  9.96832342e-03,  5.60568172e-03,\n",
       "          1.77186834e-02,  8.12471752e-04,  2.14512116e-02,\n",
       "          4.10826624e-02,  4.38217702e-03,  4.14063395e-02,\n",
       "          3.44715452e-02, -1.43398561e-03, -9.43339746e-02,\n",
       "          1.80310063e-02, -4.15109604e-03, -1.55852060e-02,\n",
       "          1.93269677e-05,  1.64492488e-03,  6.94836429e-04,\n",
       "         -3.66628659e-02,  1.25319597e-03, -4.53380459e-03,\n",
       "          2.36246978e-04,  2.95477058e-02,  2.72690597e-03,\n",
       "         -1.18925183e-02,  1.00962300e-03,  6.71309141e-04,\n",
       "         -9.67071179e-05,  4.76697863e-02,  4.41470873e-02,\n",
       "         -5.26015957e-02, -2.88864239e-02, -5.29640422e-03,\n",
       "         -3.81336532e-04,  3.16181780e-02,  2.67632397e-03,\n",
       "         -4.75382286e-03, -5.12263237e-02,  7.55906140e-03,\n",
       "          8.82006360e-03,  3.63653958e-02, -8.05750099e-03,\n",
       "          1.07187133e-02,  1.32329135e-03, -1.03040674e-04,\n",
       "          5.36219266e-02, -1.49524655e-02,  6.41496139e-03,\n",
       "          9.05522976e-03, -1.57904564e-02,  2.53600704e-02,\n",
       "          5.12977047e-03, -5.61176590e-04, -2.15136167e-04,\n",
       "          1.28928473e-04,  2.80393788e-03,  2.31040515e-04,\n",
       "          2.07242047e-02, -3.52998094e-02, -1.12035849e-03,\n",
       "          1.31371053e-02, -3.14818805e-02,  1.77960920e-02,\n",
       "          2.16155694e-02, -4.31081318e-03,  5.39658926e-02,\n",
       "         -3.68379662e-03, -3.06724631e-02,  6.00521587e-03,\n",
       "          6.03626170e-02, -5.08371028e-02, -1.29602819e-03,\n",
       "          1.54860866e-02, -9.26944674e-03,  2.87745741e-03,\n",
       "          2.52247243e-02, -1.72510088e-02, -2.86038130e-03,\n",
       "          1.22992810e-02, -5.43604648e-02,  3.66185680e-04,\n",
       "         -9.96492713e-03, -1.72761845e-02, -5.70739803e-04,\n",
       "          2.06880603e-02,  2.16872305e-03, -4.27670831e-02,\n",
       "         -3.09349534e-03,  3.95076791e-02, -3.67282022e-02,\n",
       "         -7.35824581e-03]]),\n",
       " 'b1': array([[-6.49690810e-05],\n",
       "        [-1.07281522e-05],\n",
       "        [ 2.00834243e-04],\n",
       "        [-4.05181051e-05],\n",
       "        [ 1.67772924e-06],\n",
       "        [ 1.44936775e-04],\n",
       "        [ 3.93056512e-05],\n",
       "        [-2.16091137e-05],\n",
       "        [ 1.88163555e-06],\n",
       "        [-3.10518785e-04],\n",
       "        [-8.27605074e-05],\n",
       "        [-2.76244913e-04],\n",
       "        [-9.55155050e-05],\n",
       "        [-1.38779237e-04],\n",
       "        [-9.61556420e-05],\n",
       "        [ 1.77980756e-04],\n",
       "        [-1.04386861e-04],\n",
       "        [ 2.18402871e-07],\n",
       "        [ 2.57923010e-04],\n",
       "        [-2.87118217e-04],\n",
       "        [-1.14211466e-04],\n",
       "        [ 9.93778171e-06],\n",
       "        [ 1.34117153e-05],\n",
       "        [-8.87950314e-05],\n",
       "        [ 2.20997810e-04],\n",
       "        [ 5.15252657e-09],\n",
       "        [ 1.37325191e-04],\n",
       "        [ 1.80217978e-05],\n",
       "        [-1.14703093e-04],\n",
       "        [-1.32949293e-04],\n",
       "        [-1.56059410e-05],\n",
       "        [ 3.40942107e-04],\n",
       "        [ 5.54849727e-05],\n",
       "        [-1.66013504e-05],\n",
       "        [ 3.58824035e-05],\n",
       "        [ 1.38869306e-04],\n",
       "        [ 1.35377416e-04],\n",
       "        [-2.40359790e-04],\n",
       "        [ 8.28738432e-05],\n",
       "        [ 1.01838709e-04],\n",
       "        [ 1.26559396e-04],\n",
       "        [-8.98447571e-05],\n",
       "        [-1.38155078e-04],\n",
       "        [ 3.92563210e-07],\n",
       "        [-2.13856000e-07],\n",
       "        [-3.97628879e-04],\n",
       "        [-1.28699588e-04],\n",
       "        [ 7.63728198e-06],\n",
       "        [-8.59652737e-05],\n",
       "        [-8.11499027e-05],\n",
       "        [ 1.40204824e-04],\n",
       "        [-3.59816638e-05],\n",
       "        [ 5.74342511e-05],\n",
       "        [-3.10330622e-04],\n",
       "        [-1.19793767e-05],\n",
       "        [-3.21081577e-05],\n",
       "        [-1.25101220e-07],\n",
       "        [ 1.65054680e-04],\n",
       "        [-5.98406247e-05],\n",
       "        [-4.49767948e-08],\n",
       "        [-1.49772685e-04],\n",
       "        [ 4.65666677e-06],\n",
       "        [ 1.63978503e-04],\n",
       "        [-1.52799999e-07],\n",
       "        [-1.52138591e-08],\n",
       "        [-1.40571625e-04],\n",
       "        [-1.96340159e-05],\n",
       "        [ 7.15718927e-08],\n",
       "        [ 2.24261514e-08],\n",
       "        [-1.48229478e-05],\n",
       "        [ 3.70539290e-05],\n",
       "        [ 3.15153977e-05],\n",
       "        [ 5.43689211e-08],\n",
       "        [ 6.61951508e-05],\n",
       "        [ 5.51498087e-05],\n",
       "        [ 1.19688450e-04],\n",
       "        [ 6.75551665e-07],\n",
       "        [ 9.50525580e-08],\n",
       "        [ 1.29416605e-04],\n",
       "        [ 9.78598435e-07],\n",
       "        [-1.17742899e-04],\n",
       "        [ 3.35859902e-04],\n",
       "        [-1.70888217e-04],\n",
       "        [-7.35024773e-05],\n",
       "        [-7.02129225e-08],\n",
       "        [-1.66931842e-04],\n",
       "        [ 1.12282812e-07],\n",
       "        [ 1.30466756e-04],\n",
       "        [ 1.52175176e-06],\n",
       "        [ 1.57580879e-05],\n",
       "        [-8.48876435e-05],\n",
       "        [-3.39859123e-04],\n",
       "        [-1.44906985e-04],\n",
       "        [-9.42113192e-05],\n",
       "        [-7.45711984e-06],\n",
       "        [-6.37265808e-05],\n",
       "        [-3.66066508e-05],\n",
       "        [-9.62098855e-08],\n",
       "        [ 7.91216715e-05],\n",
       "        [-2.40266216e-04],\n",
       "        [-2.42425478e-05],\n",
       "        [ 5.75834672e-06],\n",
       "        [-2.07881813e-04],\n",
       "        [-2.58563191e-05],\n",
       "        [ 1.94918338e-07],\n",
       "        [ 5.47691543e-05],\n",
       "        [ 1.79759442e-04],\n",
       "        [-5.99310922e-05],\n",
       "        [ 8.82402030e-08],\n",
       "        [-1.95402107e-04],\n",
       "        [ 1.12741502e-04],\n",
       "        [ 4.75428936e-04],\n",
       "        [-8.16571132e-05],\n",
       "        [ 6.99498533e-05],\n",
       "        [ 2.10933812e-04],\n",
       "        [-5.12925545e-05],\n",
       "        [-2.58920360e-05],\n",
       "        [ 1.57943566e-05],\n",
       "        [ 2.25906140e-04],\n",
       "        [ 7.74477011e-05],\n",
       "        [-4.31663947e-05],\n",
       "        [-2.65882209e-04],\n",
       "        [-2.11822362e-04],\n",
       "        [ 1.85559506e-05],\n",
       "        [-1.00136845e-04],\n",
       "        [-2.01243976e-04],\n",
       "        [ 2.77423674e-05],\n",
       "        [-1.86947735e-04],\n",
       "        [-3.71072265e-05],\n",
       "        [-4.23437583e-05],\n",
       "        [ 5.40082268e-08],\n",
       "        [ 1.43540182e-04],\n",
       "        [-1.62256460e-05],\n",
       "        [ 3.21448683e-05],\n",
       "        [-3.21715181e-05],\n",
       "        [ 8.86076797e-05],\n",
       "        [-5.48662746e-06],\n",
       "        [ 1.28216165e-04],\n",
       "        [ 7.04446148e-05],\n",
       "        [-2.87052951e-04],\n",
       "        [ 4.92715802e-06],\n",
       "        [-5.38895236e-05],\n",
       "        [ 1.07773124e-04],\n",
       "        [-7.39311869e-06],\n",
       "        [-3.69571561e-06],\n",
       "        [ 2.10002863e-04],\n",
       "        [ 9.62449591e-05],\n",
       "        [-2.30757890e-04],\n",
       "        [-1.32780171e-04],\n",
       "        [ 4.92043672e-05]]),\n",
       " 'b2': array([[-7.73598349e-04],\n",
       "        [ 3.39579540e-03],\n",
       "        [-1.86843425e-03],\n",
       "        [ 1.70284097e-03],\n",
       "        [-4.65537274e-05],\n",
       "        [-1.04601234e-03],\n",
       "        [-1.87831570e-03],\n",
       "        [-3.50855955e-04],\n",
       "        [-2.74729472e-04],\n",
       "        [ 1.21583521e-03],\n",
       "        [ 2.98218591e-03],\n",
       "        [ 3.28661982e-04],\n",
       "        [-8.65236864e-04],\n",
       "        [ 6.41438412e-04],\n",
       "        [-2.69200752e-03],\n",
       "        [-6.49801085e-04],\n",
       "        [-1.81106096e-03],\n",
       "        [-9.42216187e-04],\n",
       "        [-1.34302954e-03],\n",
       "        [ 3.93287317e-04],\n",
       "        [ 7.54218033e-04],\n",
       "        [ 2.76024585e-04],\n",
       "        [ 1.60267578e-03],\n",
       "        [-8.88775278e-04],\n",
       "        [ 7.38356584e-04],\n",
       "        [-1.06616640e-05],\n",
       "        [-2.58948664e-06],\n",
       "        [ 1.85659173e-03],\n",
       "        [-2.70671072e-05],\n",
       "        [-1.70118729e-04],\n",
       "        [ 5.18866611e-07],\n",
       "        [-5.83812198e-04],\n",
       "        [-5.96947852e-05],\n",
       "        [-1.56612007e-03],\n",
       "        [-5.65744476e-05],\n",
       "        [ 1.69198521e-05],\n",
       "        [ 7.04794516e-07],\n",
       "        [-3.56421717e-03],\n",
       "        [-6.67371942e-04],\n",
       "        [ 1.88744466e-03],\n",
       "        [-9.88098169e-04],\n",
       "        [ 1.39732996e-04],\n",
       "        [-2.46411304e-07],\n",
       "        [-1.68250906e-04],\n",
       "        [-1.80633224e-05],\n",
       "        [-1.10332068e-03],\n",
       "        [ 7.33899212e-04],\n",
       "        [ 6.55357404e-05],\n",
       "        [ 5.96749532e-04],\n",
       "        [-1.31837236e-03],\n",
       "        [-6.34347275e-04],\n",
       "        [ 4.44446665e-04],\n",
       "        [-1.99329312e-03],\n",
       "        [ 6.07446487e-05],\n",
       "        [-1.30902771e-03],\n",
       "        [-8.94082782e-04],\n",
       "        [ 4.99420164e-04],\n",
       "        [ 3.25947695e-05],\n",
       "        [ 4.64541815e-05],\n",
       "        [-3.80636240e-04],\n",
       "        [ 7.13224689e-06],\n",
       "        [ 2.37871411e-05],\n",
       "        [ 6.95129765e-07],\n",
       "        [-8.40756829e-06],\n",
       "        [-1.28925456e-05],\n",
       "        [ 3.69772430e-05],\n",
       "        [ 4.62734361e-04],\n",
       "        [ 8.22527651e-04],\n",
       "        [-3.23871816e-06],\n",
       "        [-3.81261216e-05],\n",
       "        [ 8.46747737e-04],\n",
       "        [ 3.52830737e-05],\n",
       "        [ 1.66245419e-04],\n",
       "        [ 8.96582813e-05],\n",
       "        [-3.10101122e-03],\n",
       "        [ 9.33233816e-04],\n",
       "        [ 4.92403061e-04],\n",
       "        [ 8.94040411e-04],\n",
       "        [-7.57659865e-04],\n",
       "        [-1.55890287e-03],\n",
       "        [ 4.95853041e-04],\n",
       "        [ 2.42874031e-04],\n",
       "        [-1.85180229e-04],\n",
       "        [ 3.94507498e-04],\n",
       "        [ 1.53794988e-03],\n",
       "        [-3.71292134e-04],\n",
       "        [ 6.38641269e-04],\n",
       "        [-2.12370349e-04],\n",
       "        [ 2.65238032e-03],\n",
       "        [ 4.30226900e-07],\n",
       "        [ 8.57635594e-04],\n",
       "        [-1.11659690e-04],\n",
       "        [-1.40218657e-05],\n",
       "        [-1.04108845e-04],\n",
       "        [-4.03133024e-06],\n",
       "        [ 3.18774403e-03],\n",
       "        [ 9.71686971e-04],\n",
       "        [ 4.94223385e-04],\n",
       "        [ 1.95478831e-03],\n",
       "        [ 9.34103924e-04]]),\n",
       " 'b3': array([[-0.04379815],\n",
       "        [ 0.00729578],\n",
       "        [ 0.02230182],\n",
       "        [ 0.00076981],\n",
       "        [ 0.0284225 ],\n",
       "        [-0.01408954],\n",
       "        [ 0.03705779],\n",
       "        [-0.00160172],\n",
       "        [-0.02216882],\n",
       "        [-0.01418947]])}"
      ]
     },
     "execution_count": 69,
     "metadata": {
      "tags": []
     },
     "output_type": "execute_result"
    }
   ],
   "source": [
    "params"
   ]
  },
  {
   "cell_type": "code",
   "execution_count": 0,
   "metadata": {
    "colab": {},
    "colab_type": "code",
    "id": "FdK3H8jBa96x"
   },
   "outputs": [],
   "source": []
  },
  {
   "cell_type": "code",
   "execution_count": 0,
   "metadata": {
    "colab": {},
    "colab_type": "code",
    "id": "Z4gSVca7cZrc"
   },
   "outputs": [],
   "source": []
  }
 ],
 "metadata": {
  "accelerator": "GPU",
  "colab": {
   "name": "FC0.ipynb",
   "provenance": [],
   "version": "0.3.2"
  },
  "kernelspec": {
   "display_name": "Python 3",
   "language": "python",
   "name": "python3"
  },
  "language_info": {
   "codemirror_mode": {
    "name": "ipython",
    "version": 3
   },
   "file_extension": ".py",
   "mimetype": "text/x-python",
   "name": "python",
   "nbconvert_exporter": "python",
   "pygments_lexer": "ipython3",
   "version": "3.6.4"
  }
 },
 "nbformat": 4,
 "nbformat_minor": 1
}
